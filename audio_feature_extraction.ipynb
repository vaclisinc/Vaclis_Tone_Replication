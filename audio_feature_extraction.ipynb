{
 "cells": [
  {
   "cell_type": "code",
   "execution_count": null,
   "metadata": {},
   "outputs": [],
   "source": [
    "import librosa\n",
    "import librosa.display\n",
    "import numpy as np\n",
    "import pandas as pd\n",
    "import os\n",
    "from scipy.stats import skew, kurtosis"
   ]
  },
  {
   "cell_type": "code",
   "execution_count": null,
   "metadata": {},
   "outputs": [],
   "source": [
    "# Directory where audio files are stored\n",
    "audio_dir = \"./audio_samples/\"  # Change this to your dataset path\n",
    "\n",
    "# Features to extract\n",
    "def extract_features(file_path):\n",
    "    y, sr = librosa.load(file_path, sr=44100)\n",
    "    \n",
    "    # Spectral features\n",
    "    spectral_centroid = np.mean(librosa.feature.spectral_centroid(y=y, sr=sr))\n",
    "    spectral_bandwidth = np.mean(librosa.feature.spectral_bandwidth(y=y, sr=sr))\n",
    "    spectral_rolloff = np.mean(librosa.feature.spectral_rolloff(y=y, sr=sr))\n",
    "    \n",
    "    # MFCCs (First 3 coefficients as features)\n",
    "    mfccs = librosa.feature.mfcc(y=y, sr=sr, n_mfcc=13)\n",
    "    mfcc_mean = np.mean(mfccs[:3], axis=1)\n",
    "    \n",
    "    # RMS Energy (Loudness)\n",
    "    rms_energy = np.mean(librosa.feature.rms(y=y))\n",
    "    \n",
    "    # Zero Crossing Rate (Helps detect percussive or modulated signals)\n",
    "    zero_crossing_rate = np.mean(librosa.feature.zero_crossing_rate(y))\n",
    "    \n",
    "    # Spectral Contrast (Measures energy difference between peaks and valleys in the spectrum)\n",
    "    spectral_contrast = np.mean(librosa.feature.spectral_contrast(y=y, sr=sr))\n",
    "    \n",
    "    # Skewness & Kurtosis (Shape of frequency distribution)\n",
    "    skewness = skew(y)\n",
    "    kurt = kurtosis(y)\n",
    "    \n",
    "    # Return feature dictionary\n",
    "    return {\n",
    "        \"file\": os.path.basename(file_path),\n",
    "        \"spectral_centroid\": spectral_centroid,\n",
    "        \"spectral_bandwidth\": spectral_bandwidth,\n",
    "        \"spectral_rolloff\": spectral_rolloff,\n",
    "        \"mfcc_1\": mfcc_mean[0],\n",
    "        \"mfcc_2\": mfcc_mean[1],\n",
    "        \"mfcc_3\": mfcc_mean[2],\n",
    "        \"rms_energy\": rms_energy,\n",
    "        \"zero_crossing_rate\": zero_crossing_rate,\n",
    "        \"spectral_contrast\": spectral_contrast,\n",
    "        \"skewness\": skewness,\n",
    "        \"kurtosis\": kurt\n",
    "    }\n",
    "\n",
    "# Process all audio files\n",
    "feature_list = []\n",
    "for file in os.listdir(audio_dir):\n",
    "    if file.endswith(\".wav\"):\n",
    "        file_path = os.path.join(audio_dir, file)\n",
    "        features = extract_features(file_path)\n",
    "        feature_list.append(features)\n",
    "\n",
    "# Convert to DataFrame\n",
    "df = pd.DataFrame(feature_list)\n",
    "\n",
    "# Save to CSV\n",
    "df.to_csv(\"audio_features.csv\", index=False)\n",
    "print(\"Feature extraction complete. Saved as 'audio_features.csv'.\")\n"
   ]
  }
 ],
 "metadata": {
  "kernelspec": {
   "display_name": ".venv",
   "language": "python",
   "name": "python3"
  },
  "language_info": {
   "name": "python",
   "version": "3.13.2"
  }
 },
 "nbformat": 4,
 "nbformat_minor": 2
}
